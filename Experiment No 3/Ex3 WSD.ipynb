{
 "cells": [
  {
   "cell_type": "code",
   "execution_count": 2,
   "id": "f17771f8-0007-46da-a94b-95142f91f7dd",
   "metadata": {},
   "outputs": [],
   "source": [
    "import nltk\n",
    "import pandas as pd\n",
    "import numpy as np\n",
    "from nltk.tokenize import word_tokenize\n",
    "from nltk.stem import PorterStemmer"
   ]
  },
  {
   "cell_type": "code",
   "execution_count": 4,
   "id": "a7f45bab-c1fe-47cd-b210-bbbd5a121cb7",
   "metadata": {},
   "outputs": [
    {
     "data": {
      "text/html": [
       "<div>\n",
       "<style scoped>\n",
       "    .dataframe tbody tr th:only-of-type {\n",
       "        vertical-align: middle;\n",
       "    }\n",
       "\n",
       "    .dataframe tbody tr th {\n",
       "        vertical-align: top;\n",
       "    }\n",
       "\n",
       "    .dataframe thead th {\n",
       "        text-align: right;\n",
       "    }\n",
       "</style>\n",
       "<table border=\"1\" class=\"dataframe\">\n",
       "  <thead>\n",
       "    <tr style=\"text-align: right;\">\n",
       "      <th></th>\n",
       "      <th>Unnamed: 0</th>\n",
       "      <th>Sentences for Training</th>\n",
       "      <th>Sense of the word \"Bank\"</th>\n",
       "    </tr>\n",
       "  </thead>\n",
       "  <tbody>\n",
       "    <tr>\n",
       "      <th>0</th>\n",
       "      <td>NaN</td>\n",
       "      <td>I deposited my paycheck at the bank.</td>\n",
       "      <td>Financial Institution</td>\n",
       "    </tr>\n",
       "    <tr>\n",
       "      <th>1</th>\n",
       "      <td>NaN</td>\n",
       "      <td>The bank of the river was eroded by the heavy ...</td>\n",
       "      <td>River Border</td>\n",
       "    </tr>\n",
       "    <tr>\n",
       "      <th>2</th>\n",
       "      <td>NaN</td>\n",
       "      <td>She works at the bank as a teller.</td>\n",
       "      <td>Financial Institution</td>\n",
       "    </tr>\n",
       "    <tr>\n",
       "      <th>3</th>\n",
       "      <td>NaN</td>\n",
       "      <td>Let's have a picnic by the bank of the river.</td>\n",
       "      <td>River Border</td>\n",
       "    </tr>\n",
       "    <tr>\n",
       "      <th>4</th>\n",
       "      <td>NaN</td>\n",
       "      <td>The bank approved my loan application.</td>\n",
       "      <td>Financial Institution</td>\n",
       "    </tr>\n",
       "  </tbody>\n",
       "</table>\n",
       "</div>"
      ],
      "text/plain": [
       "   Unnamed: 0                            Sentences for Training   \\\n",
       "0         NaN               I deposited my paycheck at the bank.   \n",
       "1         NaN  The bank of the river was eroded by the heavy ...   \n",
       "2         NaN                She works at the bank as a teller.    \n",
       "3         NaN     Let's have a picnic by the bank of the river.    \n",
       "4         NaN            The bank approved my loan application.    \n",
       "\n",
       "  Sense of the word \"Bank\"  \n",
       "0    Financial Institution  \n",
       "1             River Border  \n",
       "2    Financial Institution  \n",
       "3             River Border  \n",
       "4    Financial Institution  "
      ]
     },
     "execution_count": 4,
     "metadata": {},
     "output_type": "execute_result"
    }
   ],
   "source": [
    "df = pd.read_excel('Bank (1).xlsx')\n",
    "df.head()"
   ]
  },
  {
   "cell_type": "code",
   "execution_count": 6,
   "id": "03ebfeb1-342c-46c2-aecf-99275ecbebf8",
   "metadata": {},
   "outputs": [
    {
     "data": {
      "text/html": [
       "<div>\n",
       "<style scoped>\n",
       "    .dataframe tbody tr th:only-of-type {\n",
       "        vertical-align: middle;\n",
       "    }\n",
       "\n",
       "    .dataframe tbody tr th {\n",
       "        vertical-align: top;\n",
       "    }\n",
       "\n",
       "    .dataframe thead th {\n",
       "        text-align: right;\n",
       "    }\n",
       "</style>\n",
       "<table border=\"1\" class=\"dataframe\">\n",
       "  <thead>\n",
       "    <tr style=\"text-align: right;\">\n",
       "      <th></th>\n",
       "      <th>Sentences for Training</th>\n",
       "      <th>Sense of the word \"Bank\"</th>\n",
       "    </tr>\n",
       "  </thead>\n",
       "  <tbody>\n",
       "    <tr>\n",
       "      <th>0</th>\n",
       "      <td>I deposited my paycheck at the bank.</td>\n",
       "      <td>Financial Institution</td>\n",
       "    </tr>\n",
       "    <tr>\n",
       "      <th>1</th>\n",
       "      <td>The bank of the river was eroded by the heavy ...</td>\n",
       "      <td>River Border</td>\n",
       "    </tr>\n",
       "    <tr>\n",
       "      <th>2</th>\n",
       "      <td>She works at the bank as a teller.</td>\n",
       "      <td>Financial Institution</td>\n",
       "    </tr>\n",
       "    <tr>\n",
       "      <th>3</th>\n",
       "      <td>Let's have a picnic by the bank of the river.</td>\n",
       "      <td>River Border</td>\n",
       "    </tr>\n",
       "    <tr>\n",
       "      <th>4</th>\n",
       "      <td>The bank approved my loan application.</td>\n",
       "      <td>Financial Institution</td>\n",
       "    </tr>\n",
       "  </tbody>\n",
       "</table>\n",
       "</div>"
      ],
      "text/plain": [
       "                             Sentences for Training  Sense of the word \"Bank\"\n",
       "0               I deposited my paycheck at the bank.    Financial Institution\n",
       "1  The bank of the river was eroded by the heavy ...             River Border\n",
       "2                She works at the bank as a teller.     Financial Institution\n",
       "3     Let's have a picnic by the bank of the river.              River Border\n",
       "4            The bank approved my loan application.     Financial Institution"
      ]
     },
     "execution_count": 6,
     "metadata": {},
     "output_type": "execute_result"
    }
   ],
   "source": [
    "df = df.drop(columns=['Unnamed: 0'])\n",
    "df.head()"
   ]
  },
  {
   "cell_type": "code",
   "execution_count": 8,
   "id": "f8979a4e-1ab5-43e4-a339-a13e289e842d",
   "metadata": {},
   "outputs": [],
   "source": [
    "def preprocess_text(text):\n",
    "    tokens = word_tokenize(text.lower())\n",
    "    tokens = [token for token in tokens if token.isalpha()]\n",
    "    stemmer = PorterStemmer()\n",
    "    tokens =[stemmer.stem(token) for token in tokens]\n",
    "    return tokens"
   ]
  },
  {
   "cell_type": "code",
   "execution_count": 15,
   "id": "38e5b1cd-bb6b-4cc1-aa54-b1a0fa7961be",
   "metadata": {},
   "outputs": [
    {
     "name": "stdout",
     "output_type": "stream",
     "text": [
      "                             Sentences for Training  Sense of the word \"Bank\"  \\\n",
      "0               I deposited my paycheck at the bank.    Financial Institution   \n",
      "1  The bank of the river was eroded by the heavy ...             River Border   \n",
      "2                She works at the bank as a teller.     Financial Institution   \n",
      "3     Let's have a picnic by the bank of the river.              River Border   \n",
      "4            The bank approved my loan application.     Financial Institution   \n",
      "\n",
      "                                              tokens  \n",
      "0          [i, deposit, my, paycheck, at, the, bank]  \n",
      "1  [the, bank, of, the, river, wa, erod, by, the,...  \n",
      "2          [she, work, at, the, bank, as, a, teller]  \n",
      "3  [let, have, a, picnic, by, the, bank, of, the,...  \n",
      "4              [the, bank, approv, my, loan, applic]  \n"
     ]
    }
   ],
   "source": [
    "df.columns\n",
    "df['tokens'] = df['Sentences for Training '].apply(preprocess_text)\n",
    "print(df.head())"
   ]
  },
  {
   "cell_type": "code",
   "execution_count": 20,
   "id": "e7268ccd-2575-4295-8846-755f3a6a87d9",
   "metadata": {},
   "outputs": [],
   "source": [
    "df.columns = ['Sentences','Sense','tokens']"
   ]
  },
  {
   "cell_type": "code",
   "execution_count": 50,
   "id": "c0f6970b-64db-45d9-98cb-96251f0ec72d",
   "metadata": {},
   "outputs": [],
   "source": [
    "df.head()\n",
    "unique_words = []\n",
    "unique_words = [word for words in df['tokens'] for word in words if word not in unique_words]\n",
    "N = len(unique_words)\n"
   ]
  },
  {
   "cell_type": "code",
   "execution_count": 25,
   "id": "b7475db6-8b55-4d24-8ed2-32e9e4c7772c",
   "metadata": {},
   "outputs": [
    {
     "data": {
      "text/plain": [
       "2"
      ]
     },
     "execution_count": 25,
     "metadata": {},
     "output_type": "execute_result"
    }
   ],
   "source": [
    "unique_sense = df['Sense'].unique()\n",
    "num_class = len(unique_sense)\n",
    "num_class"
   ]
  },
  {
   "cell_type": "code",
   "execution_count": 26,
   "id": "6f8d93ff-079e-466d-990e-a1db4aa802d8",
   "metadata": {},
   "outputs": [
    {
     "data": {
      "text/plain": [
       "93"
      ]
     },
     "execution_count": 26,
     "metadata": {},
     "output_type": "execute_result"
    }
   ],
   "source": [
    "total_sent = len(df)\n",
    "total_sent"
   ]
  },
  {
   "cell_type": "code",
   "execution_count": 33,
   "id": "9a15c26b-41e5-42c0-96ff-1839af5ce2ca",
   "metadata": {},
   "outputs": [],
   "source": [
    "sense_count=df['Sense'].value_counts().to_dict()"
   ]
  },
  {
   "cell_type": "code",
   "execution_count": 36,
   "id": "9532c4e5-b1ed-4f5b-a411-dc0ea0e169ec",
   "metadata": {},
   "outputs": [
    {
     "data": {
      "text/plain": [
       "{'Financial Institution': 0.4838709677419355,\n",
       " 'River Border': 0.5161290322580645}"
      ]
     },
     "execution_count": 36,
     "metadata": {},
     "output_type": "execute_result"
    }
   ],
   "source": [
    "prior = {}\n",
    "for i in unique_sense:\n",
    "    prob = sense_count[i]/total_sent\n",
    "    prior[i] = prob\n",
    "prior"
   ]
  },
  {
   "cell_type": "code",
   "execution_count": 37,
   "id": "d1023ef9-a459-4c22-a4aa-6e0e2178f982",
   "metadata": {},
   "outputs": [
    {
     "name": "stdin",
     "output_type": "stream",
     "text": [
      "Enter the Input Sentence i had a bad game\n"
     ]
    },
    {
     "data": {
      "text/plain": [
       "['i', 'had', 'a', 'bad', 'game']"
      ]
     },
     "execution_count": 37,
     "metadata": {},
     "output_type": "execute_result"
    }
   ],
   "source": [
    "s = input(\"Enter the Input Sentence\")\n",
    "s = preprocess_text(s)\n",
    "s"
   ]
  },
  {
   "cell_type": "code",
   "execution_count": 42,
   "id": "47589373-961b-4845-b595-664c54aac56e",
   "metadata": {},
   "outputs": [
    {
     "name": "stdout",
     "output_type": "stream",
     "text": [
      "{'i': {'Financial Institution': 15, 'River Border': 0}, 'had': {'Financial Institution': 0, 'River Border': 0}, 'a': {'Financial Institution': 12, 'River Border': 10}, 'bad': {'Financial Institution': 0, 'River Border': 0}, 'game': {'Financial Institution': 0, 'River Border': 0}}\n"
     ]
    }
   ],
   "source": [
    "d = {}\n",
    "for i in s:\n",
    "    d[i] = {'Financial Institution':0,'River Border':0}\n",
    "    for idx,row in df.iterrows():\n",
    "        if i in row['tokens']:\n",
    "            d[i][row['Sense']] += 1\n",
    "print(d)"
   ]
  },
  {
   "cell_type": "code",
   "execution_count": 52,
   "id": "a801b132-a046-4ba5-acad-71efba738da0",
   "metadata": {},
   "outputs": [
    {
     "data": {
      "text/plain": [
       "{'i': {'Financial Institution': 0.016260162601626018,\n",
       "  'River Border': 0.0010162601626016261},\n",
       " 'had': {'Financial Institution': 0.0010319917440660474,\n",
       "  'River Border': 0.0010319917440660474},\n",
       " 'a': {'Financial Institution': 0.013118062563067608,\n",
       "  'River Border': 0.011099899091826439},\n",
       " 'bad': {'Financial Institution': 0.0010319917440660474,\n",
       "  'River Border': 0.0010319917440660474},\n",
       " 'game': {'Financial Institution': 0.0010319917440660474,\n",
       "  'River Border': 0.0010319917440660474}}"
      ]
     },
     "execution_count": 52,
     "metadata": {},
     "output_type": "execute_result"
    }
   ],
   "source": [
    "probability = {}\n",
    "for i in d:\n",
    "    probability[i] = {'Financial Institution':0,'River Border':0}\n",
    "    prob = (d[i]['Financial Institution'] + 1)/(sum(d[i].values()) + N)\n",
    "    probability[i]['Financial Institution'] = prob\n",
    "\n",
    "for i in d:\n",
    "    prob = (d[i]['River Border'] + 1)/(sum(d[i].values()) + N)\n",
    "    probability[i]['River Border'] = prob\n",
    "probability"
   ]
  },
  {
   "cell_type": "code",
   "execution_count": 55,
   "id": "a433e84a-652d-4fd2-a8f7-ba7e17fc77d7",
   "metadata": {},
   "outputs": [
    {
     "name": "stdout",
     "output_type": "stream",
     "text": [
      "{'Financial Institution': 0.4838709677419355, 'River Border': 0.5161290322580645}\n"
     ]
    }
   ],
   "source": [
    "print(prior)"
   ]
  },
  {
   "cell_type": "code",
   "execution_count": 62,
   "id": "69813749-dfd4-49ee-92bb-8d46706e31c5",
   "metadata": {},
   "outputs": [
    {
     "data": {
      "text/plain": [
       "-43.00318031540824"
      ]
     },
     "execution_count": 62,
     "metadata": {},
     "output_type": "execute_result"
    }
   ],
   "source": [
    "import math\n",
    "Financial_prob = math.log(prior['Financial Institution'],2)\n",
    "River_prob = math.log(prior['River Border'],2)\n",
    "for i in probability:\n",
    "    Financial_prob += math.log(probability[i]['Financial Institution'],2)\n",
    "    River_prob += math.log(probability[i]['River Border'],2)\n",
    "Financial_prob \n"
   ]
  },
  {
   "cell_type": "code",
   "execution_count": 63,
   "id": "d3914c52-7154-4e9b-afed-333f13488472",
   "metadata": {},
   "outputs": [
    {
     "data": {
      "text/plain": [
       "-47.151079010520554"
      ]
     },
     "execution_count": 63,
     "metadata": {},
     "output_type": "execute_result"
    }
   ],
   "source": [
    "River_prob"
   ]
  },
  {
   "cell_type": "code",
   "execution_count": 65,
   "id": "52961e01-b9ab-4a1d-b150-1ee68ab013c3",
   "metadata": {},
   "outputs": [
    {
     "name": "stdout",
     "output_type": "stream",
     "text": [
      "Sense of the Sentence is Finanical Institution\n"
     ]
    }
   ],
   "source": [
    "if Financial_prob > River_prob :\n",
    "    print('Sense of the Sentence is Finanical Institution')\n",
    "else:\n",
    "    print('Sense of the Sentence is River Border')"
   ]
  },
  {
   "cell_type": "code",
   "execution_count": null,
   "id": "fefc3b2f-6bd6-4d7a-a76a-f63ae3985e8d",
   "metadata": {},
   "outputs": [],
   "source": []
  }
 ],
 "metadata": {
  "kernelspec": {
   "display_name": "Python 3 (ipykernel)",
   "language": "python",
   "name": "python3"
  },
  "language_info": {
   "codemirror_mode": {
    "name": "ipython",
    "version": 3
   },
   "file_extension": ".py",
   "mimetype": "text/x-python",
   "name": "python",
   "nbconvert_exporter": "python",
   "pygments_lexer": "ipython3",
   "version": "3.8.3"
  }
 },
 "nbformat": 4,
 "nbformat_minor": 5
}
