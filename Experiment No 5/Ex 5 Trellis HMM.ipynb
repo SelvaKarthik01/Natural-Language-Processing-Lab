{
 "cells": [
  {
   "cell_type": "code",
   "execution_count": 78,
   "id": "ee61c4cf-01e5-4af7-8859-d73cac160b14",
   "metadata": {},
   "outputs": [
    {
     "name": "stdin",
     "output_type": "stream",
     "text": [
      "Enter the Total No. of States :  2\n"
     ]
    },
    {
     "name": "stdout",
     "output_type": "stream",
     "text": [
      "Enter the Initial Probabilities of States : \n",
      "State  1 :"
     ]
    },
    {
     "name": "stdin",
     "output_type": "stream",
     "text": [
      " 1\n",
      "Enter the State Name :  cp\n"
     ]
    },
    {
     "name": "stdout",
     "output_type": "stream",
     "text": [
      "State  2 :"
     ]
    },
    {
     "name": "stdin",
     "output_type": "stream",
     "text": [
      " 0\n",
      "Enter the State Name :  ip\n"
     ]
    },
    {
     "name": "stdout",
     "output_type": "stream",
     "text": [
      "{0: 1.0, 1: 0.0}\n",
      "{0: 'cp', 1: 'ip'}\n"
     ]
    }
   ],
   "source": [
    "state_name = {}\n",
    "prob = {}\n",
    "n = int(input(\"Enter the Total No. of States : \"))\n",
    "print(\"Enter the Initial Probabilities of States : \")\n",
    "for i in range(n):\n",
    "    print(\"State \",i+1,\":\",end = \"\")\n",
    "    prob[i] = float(input())\n",
    "    state_name[i] = input(\"Enter the State Name : \")\n",
    "print(prob)\n",
    "print(state_name)"
   ]
  },
  {
   "cell_type": "code",
   "execution_count": 79,
   "id": "ed6043ee-a07d-47df-ad7d-6d67aedbf17c",
   "metadata": {},
   "outputs": [
    {
     "name": "stdin",
     "output_type": "stream",
     "text": [
      "Enter the Output Sequence lem ice-t cola\n"
     ]
    },
    {
     "name": "stdout",
     "output_type": "stream",
     "text": [
      "['lem', 'ice-t', 'cola']\n"
     ]
    }
   ],
   "source": [
    "output = input(\"Enter the Output Sequence\")\n",
    "out = output.split()\n",
    "print(out)"
   ]
  },
  {
   "cell_type": "code",
   "execution_count": 80,
   "id": "0824156c-dd3c-43c1-a3e8-12dd3ba23494",
   "metadata": {},
   "outputs": [
    {
     "name": "stdin",
     "output_type": "stream",
     "text": [
      "Enter the Emission States :  cola ice-t lem\n",
      "Enter the Probability from i to j :  0.6\n",
      "Enter the Probability from i to j :  0.1\n",
      "Enter the Probability from i to j :  0.3\n",
      "Enter the Probability from i to j :  0.1\n",
      "Enter the Probability from i to j :  0.7\n",
      "Enter the Probability from i to j :  0.2\n"
     ]
    },
    {
     "name": "stdout",
     "output_type": "stream",
     "text": [
      "{(0, 'cola'): 0.6, (0, 'ice-t'): 0.1, (0, 'lem'): 0.3, (1, 'cola'): 0.1, (1, 'ice-t'): 0.7, (1, 'lem'): 0.2}\n"
     ]
    }
   ],
   "source": [
    "output1 = input(\"Enter the Emission States : \")\n",
    "out1_emit = output1.split()\n",
    "emit = {}\n",
    "for i in range(n):\n",
    "    for j in out1_emit:\n",
    "        emit[i,j] = float(input(\"Enter the Probability from i to j : \"))\n",
    "print(emit)"
   ]
  },
  {
   "cell_type": "code",
   "execution_count": 81,
   "id": "d68f41e6-9447-434c-a306-00907317bdbe",
   "metadata": {},
   "outputs": [
    {
     "name": "stdin",
     "output_type": "stream",
     "text": [
      "Enter the Transisiion Probability :  0.7\n",
      "Enter the Transisiion Probability :  0.3\n",
      "Enter the Transisiion Probability :  0.5\n",
      "Enter the Transisiion Probability :  0.5\n"
     ]
    },
    {
     "name": "stdout",
     "output_type": "stream",
     "text": [
      "{(0, 0): 0.7, (0, 1): 0.3, (1, 0): 0.5, (1, 1): 0.5}\n"
     ]
    }
   ],
   "source": [
    "transition = {}\n",
    "for i in range(n):\n",
    "    for j in range(n):\n",
    "        transition[i,j] = float(input(\"Enter the Transisiion Probability : \"))\n",
    "print(transition)"
   ]
  },
  {
   "cell_type": "code",
   "execution_count": 123,
   "id": "a10477fd-b20b-4a8e-ba1c-41bab3d64916",
   "metadata": {},
   "outputs": [],
   "source": [
    "alpha = [[],]\n",
    "beta = [[]]\n",
    "for i in range(n):\n",
    "    alpha[0].extend([prob[i]])\n",
    "    beta[0].extend([1])\n",
    "alpha[0]\n",
    "gamma = []\n"
   ]
  },
  {
   "cell_type": "code",
   "execution_count": 124,
   "id": "10ff549c-e59b-45f4-8603-7cb9c7df9ec4",
   "metadata": {},
   "outputs": [],
   "source": [
    "def trellis_forward(n,out,transistion,emit,alpha):\n",
    "    alp= []\n",
    "    lists = []\n",
    "    for i in range(n):\n",
    "        for j in range(n):\n",
    "            value = alpha[j]*emit[j,out]*transition[j,i]\n",
    "            lists.append(value)\n",
    "        if len(lists) == 2:\n",
    "            alp.append(lists[0]+lists[1])\n",
    "        elif len(lists) == 3:\n",
    "            alp.append(lists[0]+lists[1]+lists[2])\n",
    "        lists=[]\n",
    "    return alp\n",
    "            "
   ]
  },
  {
   "cell_type": "code",
   "execution_count": 125,
   "id": "d7d3c51b-4cb1-43c0-9075-9b16bcdaa956",
   "metadata": {},
   "outputs": [],
   "source": [
    "def trellis_backward(n,out,transistion,emit,beta):\n",
    "    bet= []\n",
    "    lists = []\n",
    "    for i in range(n):\n",
    "        for j in range(n):\n",
    "            value = beta[j]*emit[i,out]*transition[i,j]\n",
    "            lists.append(value)\n",
    "        if len(lists) == 2:\n",
    "            bet.append(lists[0]+lists[1])\n",
    "        elif len(lists) == 3:\n",
    "            bet.append(lists[0]+lists[1]+lists[2])\n",
    "        lists=[]\n",
    "    return bet\n"
   ]
  },
  {
   "cell_type": "code",
   "execution_count": 126,
   "id": "aefacbf3-ca37-4a89-8cc3-4f40b29bbfd0",
   "metadata": {},
   "outputs": [
    {
     "name": "stdout",
     "output_type": "stream",
     "text": [
      "[[1.0, 0.0], [0.42, 0.18], [0.0924, 0.0756], [0.026964, 0.015876]]\n"
     ]
    }
   ],
   "source": [
    "c = 0 \n",
    "for i in out:\n",
    "    new = trellis_forward(n,i,transition,emit,alpha[c])\n",
    "    alpha.append(new)\n",
    "    c += 1\n",
    "print(alpha)"
   ]
  },
  {
   "cell_type": "code",
   "execution_count": 128,
   "id": "cafad1a3-be31-4441-b9d5-31fe8a794da7",
   "metadata": {},
   "outputs": [
    {
     "data": {
      "text/plain": [
       "['cola', 'ice-t', 'lem']"
      ]
     },
     "execution_count": 128,
     "metadata": {},
     "output_type": "execute_result"
    }
   ],
   "source": [
    "out  = out[::-1]\n",
    "out"
   ]
  },
  {
   "cell_type": "code",
   "execution_count": 129,
   "id": "0ea429a5-73d6-4ecf-98ec-60de74aa2d5a",
   "metadata": {},
   "outputs": [
    {
     "name": "stdout",
     "output_type": "stream",
     "text": [
      "[[1, 1], [0.6, 0.1], [0.045, 0.245], [0.0315, 0.029]]\n"
     ]
    }
   ],
   "source": [
    "c = 0 \n",
    "for i in out:\n",
    "    new = trellis_backward(n,i,transition,emit,beta[c])\n",
    "    beta.append(new)\n",
    "    c += 1\n",
    "print(beta)"
   ]
  },
  {
   "cell_type": "code",
   "execution_count": 138,
   "id": "c0f82db1-a64f-42da-9a88-571c009ebf71",
   "metadata": {},
   "outputs": [
    {
     "name": "stdout",
     "output_type": "stream",
     "text": [
      "0.04284\n",
      "0.0315\n"
     ]
    }
   ],
   "source": [
    "a = alpha[-1]\n",
    "b = beta[-1]\n",
    "c = alpha[0]\n",
    "forward_seq = 0\n",
    "backward_seq = 0\n",
    "for i in a:\n",
    "    forward_seq += i\n",
    "for i in range(len(b)):\n",
    "    backward_seq += b[i]*c[i]\n",
    "print(forward_seq)\n",
    "print(backward_seq)\n",
    "    "
   ]
  },
  {
   "cell_type": "code",
   "execution_count": 131,
   "id": "e25c2b3f-1e95-4888-9a52-0bbd79c2f00b",
   "metadata": {},
   "outputs": [],
   "source": [
    "def best_seq(n,alpha,beta):\n",
    "    num1 = alpha[0] * beta[0]\n",
    "    num2 = alpha[1] * beta[1]\n",
    "    total = num1 + num2\n",
    "    gamma1 = num1/total\n",
    "    gamma2 = num2/total\n",
    "    return [gamma1,gamma2]"
   ]
  },
  {
   "cell_type": "code",
   "execution_count": 132,
   "id": "9d31df7a-c9a4-482d-bf32-2143ad0e901c",
   "metadata": {},
   "outputs": [
    {
     "name": "stdout",
     "output_type": "stream",
     "text": [
      "[[1.0, 0.0], [0.3, 0.7], [0.8799999999999999, 0.12000000000000001], [0.6294117647058822, 0.37058823529411766]]\n",
      "[1.0, 0, 0.8799999999999999, 0.6294117647058822]\n",
      "[0, 0.7, 0, 0]\n"
     ]
    }
   ],
   "source": [
    "counter1 = 0 \n",
    "counter2 = len(out)\n",
    "state1 = []\n",
    "state2 = []\n",
    "while(counter2 != -1):\n",
    "    lists = []\n",
    "    lists = best_seq(n,alpha[counter1],beta[counter2])\n",
    "    gamma.append(lists)\n",
    "    if lists[0] > lists[1]:\n",
    "        state1.append(lists[0])\n",
    "        state2.append(0)\n",
    "    elif lists[0] < lists[1]:\n",
    "        state2.append(lists[1])\n",
    "        state1.append(0)\n",
    "    elif lists[0] == lists[1]:\n",
    "        state1.append(lists[0])\n",
    "        state2.append(0)\n",
    "    counter1 += 1\n",
    "    counter2 -= 1\n",
    "print(gamma)\n",
    "print(state1)\n",
    "print(state2)"
   ]
  },
  {
   "cell_type": "code",
   "execution_count": 137,
   "id": "c34ea0c8-7af8-400a-8194-3000b5ee6695",
   "metadata": {},
   "outputs": [
    {
     "name": "stdout",
     "output_type": "stream",
     "text": [
      "[0, 1, 0, 0]\n",
      "['cp', 'ip', 'cp', 'cp']\n"
     ]
    }
   ],
   "source": [
    "j = 0 \n",
    "states = []\n",
    "while(j < len(gamma)):\n",
    "    if state1[j] < state2[j]:\n",
    "        states.append(1)\n",
    "    elif state1[j] > state2[j]:\n",
    "        states.append(0)\n",
    "    j += 1\n",
    "state_display=[]\n",
    "for k in states:\n",
    "    if k in state_name.keys():\n",
    "        state_display.append(state_name[k])\n",
    "print(states)\n",
    "print(state_display)\n",
    "        "
   ]
  },
  {
   "cell_type": "code",
   "execution_count": null,
   "id": "ee657443-bbb8-483e-9687-bb6e54776e42",
   "metadata": {},
   "outputs": [],
   "source": []
  }
 ],
 "metadata": {
  "kernelspec": {
   "display_name": "Python 3 (ipykernel)",
   "language": "python",
   "name": "python3"
  },
  "language_info": {
   "codemirror_mode": {
    "name": "ipython",
    "version": 3
   },
   "file_extension": ".py",
   "mimetype": "text/x-python",
   "name": "python",
   "nbconvert_exporter": "python",
   "pygments_lexer": "ipython3",
   "version": "3.8.3"
  }
 },
 "nbformat": 4,
 "nbformat_minor": 5
}
