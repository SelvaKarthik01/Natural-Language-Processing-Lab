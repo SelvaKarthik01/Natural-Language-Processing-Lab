{
 "cells": [
  {
   "cell_type": "code",
   "execution_count": 2,
   "id": "dd544ae6-f40d-4f34-af94-652ba6dfe7d6",
   "metadata": {},
   "outputs": [
    {
     "name": "stdout",
     "output_type": "stream",
     "text": [
      "The sentence \"['the', 'cat', 'chased', 'the', 'dog']\" is grammatically correct with a probability of 0.0010080000\n"
     ]
    }
   ],
   "source": [
    "# Step 1: Import NLTK and define the grammar\n",
    "import nltk\n",
    "from nltk import PCFG\n",
    "\n",
    "# Define the grammar using PCFG.fromstring (modified to include \"cat\", \"chased\", \"dog\")\n",
    "grammar = PCFG.fromstring(\"\"\"\n",
    "S -> NP VP [1.0]\n",
    "VP -> V NP [0.7] | VP PP [0.3]\n",
    "NP -> Det N [0.5] | NP PP [0.2] | 'John' [0.3]\n",
    "PP -> P NP [1.0]\n",
    "V -> 'saw' [0.2] | 'ate' [0.4] | 'chased' [0.4]\n",
    "Det -> 'the' [0.6] | 'a' [0.4]\n",
    "N -> 'man' [0.3] | 'telescope' [0.3] | 'cat' [0.2] | 'dog' [0.2]\n",
    "P -> 'with' [0.4] | 'in' [0.6]\n",
    "\"\"\")\n",
    "\n",
    "# Step 2: Define the CYK parsing function\n",
    "def cyk_parse_with_probability(grammar, sentence):\n",
    "    # Split the sentence into words\n",
    "    n = len(sentence)\n",
    "    # Initialize the table with production probabilities\n",
    "    table = [[[] for _ in range(n)] for _ in range(n)]\n",
    "    # Fill the table with production probabilities\n",
    "    for i in range(n):\n",
    "        for prod in grammar.productions():\n",
    "            if prod.rhs() == (sentence[i],):  # Corrected comparison\n",
    "                table[i][i].append((prod.lhs(), prod.prob()))\n",
    "\n",
    "    # Fill the table for longer substrings\n",
    "    for length in range(2, n + 1):  # Length of substring: 2, 3, ..., n\n",
    "        for i in range(n - length + 1):  # Start index of substring\n",
    "            j = i + length - 1  # End index of substring\n",
    "            for k in range(i, j):  # Split point\n",
    "                for left, left_prob in table[i][k]:\n",
    "                    for right, right_prob in table[k + 1][j]:\n",
    "                        for prod in grammar.productions():\n",
    "                            # Check if the production matches the left and right non-terminals\n",
    "                            if len(prod.rhs()) == 2 and str(prod.rhs()[0]) == str(left) and str(prod.rhs()[1]) == str(right):\n",
    "                                prod_prob = left_prob * right_prob * prod.prob()\n",
    "                                # Add the non-terminal and its probability to the table\n",
    "                                already_in_table = False\n",
    "                                for nt, prob in table[i][j]:\n",
    "                                    if str(nt) == str(prod.lhs()):\n",
    "                                        already_in_table = True\n",
    "                                        if prod_prob > prob:\n",
    "                                            table[i][j].remove((nt, prob))\n",
    "                                            table[i][j].append((prod.lhs(), prod_prob))\n",
    "                                if not already_in_table:\n",
    "                                    table[i][j].append((prod.lhs(), prod_prob))\n",
    "\n",
    "    # Check if the start symbol is in the top-right cell\n",
    "    for lhs, lhs_prob in table[0][n-1]:\n",
    "        if str(lhs) == str(grammar.start()):\n",
    "            return lhs_prob\n",
    "\n",
    "    return 0.0\n",
    "\n",
    "# Step 3: Parse the sentence and calculate the probability\n",
    "sentence = \"the cat chased the dog\".split()\n",
    "probability = cyk_parse_with_probability(grammar, sentence)\n",
    "if probability > 0:\n",
    "    print(f'The sentence \"{sentence}\" is grammatically correct with a probability of {probability:.10f}')\n",
    "else:\n",
    "    print(f'The sentence \"{sentence}\" is NOT grammatically correct.')"
   ]
  },
  {
   "cell_type": "code",
   "execution_count": null,
   "id": "3ee81c9a-06c0-479c-9348-c042d20b5fd3",
   "metadata": {},
   "outputs": [],
   "source": []
  }
 ],
 "metadata": {
  "kernelspec": {
   "display_name": "Python 3 (ipykernel)",
   "language": "python",
   "name": "python3"
  },
  "language_info": {
   "codemirror_mode": {
    "name": "ipython",
    "version": 3
   },
   "file_extension": ".py",
   "mimetype": "text/x-python",
   "name": "python",
   "nbconvert_exporter": "python",
   "pygments_lexer": "ipython3",
   "version": "3.8.3"
  }
 },
 "nbformat": 4,
 "nbformat_minor": 5
}
