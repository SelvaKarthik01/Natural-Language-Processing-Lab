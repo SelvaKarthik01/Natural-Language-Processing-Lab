{
  "cells": [
    {
      "cell_type": "code",
      "execution_count": 1,
      "metadata": {
        "id": "7he9ZUJ2-U6O"
      },
      "outputs": [],
      "source": [
        "Tp = {\n",
        "    'Sunny': {'Sunny': 0.7, 'Rainy': 0.3},  # Probabilities from Sunny\n",
        "    'Rainy': {'Sunny': 0.5, 'Rainy': 0.5}   # Probabilities from Rainy\n",
        "}\n",
        "\n",
        "Ep = {\n",
        "    'Sunny': {'Walk': 0.6, 'Shop': 0.1, 'Clean': 0.3},  # Probabilities of observations from Sunny\n",
        "    'Rainy': {'Walk': 0.1, 'Shop': 0.7, 'Clean': 0.2}   # Probabilities of observations from Rainy\n",
        "}\n",
        "\n",
        "observations = ['Clean', 'Shop','Walk']\n",
        "\n",
        "Initial_prob = [1, 0]"
      ]
    },
    {
      "cell_type": "code",
      "execution_count": 2,
      "metadata": {},
      "outputs": [],
      "source": [
        "import numpy as np"
      ]
    },
    {
      "cell_type": "code",
      "execution_count": 3,
      "metadata": {
        "colab": {
          "base_uri": "https://localhost:8080/"
        },
        "id": "9Yb3Y-qK-9gn",
        "outputId": "a084ed61-935e-4bc2-861a-5e9be3fb8b4d"
      },
      "outputs": [
        {
          "data": {
            "text/plain": [
              "array([[1.      , 0.21    , 0.0462  , 0.021294],\n",
              "       [0.      , 0.09    , 0.0378  , 0.010206]])"
            ]
          },
          "execution_count": 3,
          "metadata": {},
          "output_type": "execute_result"
        }
      ],
      "source": [
        "#FORWARD PROCEDURE\n",
        "\n",
        "alpha = np.zeros((len(Tp), len(observations)+1))\n",
        "alpha[:,0] = Initial_prob\n",
        "\n",
        "for i in range(1, len(observations)+1):\n",
        "  alpha[0][i] = alpha[0][i-1]*Tp['Sunny']['Sunny']*Ep['Sunny'][observations[i-1]] + alpha[1][i-1]*Tp['Rainy']['Sunny']*Ep['Rainy'][observations[i-1]]\n",
        "  alpha[1][i] = alpha[1][i-1]*Tp['Rainy']['Rainy']*Ep['Rainy'][observations[i-1]] + alpha[0][i-1]*Tp['Sunny']['Rainy']*Ep['Sunny'][observations[i-1]]\n",
        "\n",
        "alpha"
      ]
    },
    {
      "cell_type": "code",
      "execution_count": 4,
      "metadata": {
        "colab": {
          "base_uri": "https://localhost:8080/"
        },
        "id": "Z-divjuJ_9YQ",
        "outputId": "da786f61-ec2a-45fa-e916-596b3dbcaa16"
      },
      "outputs": [
        {
          "data": {
            "text/plain": [
              "array([[0.0315, 0.045 , 0.6   , 1.    ],\n",
              "       [0.029 , 0.245 , 0.1   , 1.    ]])"
            ]
          },
          "execution_count": 4,
          "metadata": {},
          "output_type": "execute_result"
        }
      ],
      "source": [
        "#BACKWARD PROCEDURE\n",
        "\n",
        "beta = np.zeros((len(Tp), len(observations)+1))\n",
        "beta[:,len(observations)] = [1,1]\n",
        "\n",
        "for i in range(len(observations)-1, -1, -1):\n",
        "  beta[0][i] = beta[0][i+1]*Tp['Sunny']['Sunny']*Ep['Sunny'][observations[i]] + beta[1][i+1]*Tp['Sunny']['Rainy']*Ep['Sunny'][observations[i]]\n",
        "  beta[1][i] = beta[1][i+1]*Tp['Rainy']['Rainy']*Ep['Rainy'][observations[i]] + beta[0][i+1]*Tp['Rainy']['Sunny']*Ep['Rainy'][observations[i]]\n",
        "\n",
        "beta"
      ]
    },
    {
      "cell_type": "code",
      "execution_count": 10,
      "metadata": {},
      "outputs": [
        {
          "name": "stdout",
          "output_type": "stream",
          "text": [
            "Gamma values:\n",
            "[[1.    0.3   0.88  0.676]\n",
            " [0.    0.7   0.12  0.324]]\n",
            "Best states:\n",
            "[0 1 0 0]\n",
            "\n",
            "Best Sequence is : \n",
            "\n",
            "Sunny\n",
            "Rainy\n",
            "Sunny\n",
            "Sunny\n"
          ]
        }
      ],
      "source": [
        "gamma = (alpha * beta) / np.sum(alpha * beta, axis=0)\n",
        "best_states = np.argmax(gamma, axis=0)\n",
        "\n",
        "print(\"Gamma values:\")\n",
        "print(gamma)\n",
        "print(\"Best states:\")\n",
        "print(best_states)\n",
        "print()\n",
        "print(\"Best Sequence is : \")\n",
        "print()\n",
        "for i in best_states:\n",
        "    if i == 1 :\n",
        "        print(\"Rainy\")\n",
        "    elif i == 0 :\n",
        "        print(\"Sunny\")\n"
      ]
    },
    {
      "cell_type": "code",
      "execution_count": 9,
      "metadata": {
        "colab": {
          "base_uri": "https://localhost:8080/"
        },
        "id": "QdxTCGCnCKor",
        "outputId": "11379319-40bd-409e-bb72-a5e1db233012"
      },
      "outputs": [
        {
          "name": "stdout",
          "output_type": "stream",
          "text": [
            "[[1.      0.21    0.0315  0.01323]\n",
            " [0.      0.09    0.0315  0.00567]]\n"
          ]
        },
        {
          "data": {
            "text/plain": [
              "['Sunny', 'Sunny', 'Sunny']"
            ]
          },
          "execution_count": 9,
          "metadata": {},
          "output_type": "execute_result"
        }
      ],
      "source": [
        "#VITERBI\n",
        "\n",
        "delta = np.zeros((len(Tp), len(observations)+1))\n",
        "delta[:,0] = Initial_prob\n",
        "Best_state1 = []\n",
        "\n",
        "for i in range(1, len(observations)+1):\n",
        "\n",
        "  s_s = delta[0][i-1]*Tp['Sunny']['Sunny']*Ep['Sunny'][observations[i-1]]\n",
        "  r_s = delta[1][i-1]*Tp['Rainy']['Sunny']*Ep['Rainy'][observations[i-1]]\n",
        "  delta[0][i] = max(s_s , r_s)\n",
        "\n",
        "  r_r = delta[1][i-1]*Tp['Rainy']['Rainy']*Ep['Rainy'][observations[i-1]]\n",
        "  s_r = delta[0][i-1]*Tp['Sunny']['Rainy']*Ep['Sunny'][observations[i-1]]\n",
        "  delta[1][i] = max(r_r , s_r)\n",
        "\n",
        "  Best_state1.append(\"Sunny\" if delta[0][i] >= delta[1][i] else \"Rainy\")\n",
        "\n",
        "print(delta)\n",
        "Best_state1"
      ]
    }
  ],
  "metadata": {
    "colab": {
      "provenance": []
    },
    "kernelspec": {
      "display_name": "Python 3",
      "name": "python3"
    },
    "language_info": {
      "codemirror_mode": {
        "name": "ipython",
        "version": 3
      },
      "file_extension": ".py",
      "mimetype": "text/x-python",
      "name": "python",
      "nbconvert_exporter": "python",
      "pygments_lexer": "ipython3",
      "version": "3.12.7"
    }
  },
  "nbformat": 4,
  "nbformat_minor": 0
}
